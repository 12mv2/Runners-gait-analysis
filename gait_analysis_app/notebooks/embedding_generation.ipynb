{
 "cells": [
  {
   "cell_type": "markdown",
   "metadata": {},
   "source": [
    "# Gait Analysis: Embedding Generation\n",
    "\n",
    "This notebook demonstrates how to generate embeddings from pose data and store them in Pinecone."
   ]
  },
  {
   "cell_type": "code",
   "execution_count": null,
   "metadata": {},
   "source": [
    "import sys\n",
    "import os\n",
    "\n",
    "# Add the parent directory to the path to import from src\n",
    "sys.path.append(os.path.abspath('..'))\n",
    "\n",
    "import numpy as np\n",
    "from src.embeddings.generator import GaitEmbeddingGenerator\n",
    "from src.database.pinecone_db import GaitDatabase"
   ]
  },
  {
   "cell_type": "code",
   "execution_count": null,
   "metadata": {},
   "source": [
    "# Load the processed pose data\n",
    "poses = np.load('../data/processed/sample_poses.npy')\n",
    "print(f\"Loaded pose data with shape: {poses.shape}\")"
   ]
  },
  {
   "cell_type": "code",
   "execution_count": null,
   "metadata": {},
   "source": [
    "# Initialize the embedding generator\n",
    "embedding_generator = GaitEmbeddingGenerator(embedding_dim=256)  # Using a smaller dimension for testing"
   ]
  },
  {
   "cell_type": "code",
   "execution_count": null,
   "metadata": {},
   "source": [
    "# Generate an embedding\n",
    "embedding = embedding_generator.generate_embedding(poses)\n",
    "print(f\"Generated embedding with shape: {embedding.shape}\")\n",
    "print(f\"Embedding norm: {np.linalg.norm(embedding)}\")"
   ]
  },
  {
   "cell_type": "code",
   "execution_count": null,
   "metadata": {},
   "source": [
    "# Initialize Pinecone client\n",
    "# You'll need to set these values\n",
    "api_key = \"your-pinecone-api-key\"\n",
    "environment = \"your-environment\"\n",
    "index_name = \"gait-analysis\"\n",
    "\n",
    "db = GaitDatabase(api_key, environment, index_name, dimension=256)"
   ]
  },
  {
   "cell_type": "code",
   "execution_count": null,
   "metadata": {},
   "source": [
    "# Store the embedding\n",
    "metadata = {\n",
    "    \"source_video\": \"sample_walking.mp4\",\n",
    "    \"subject_id\": \"test-subject-001\",\n",
    "    \"recording_date\": \"2023-06-15\"\n",
    "}\n",
    "\n",
    "db.store_gait_embedding(\"sample-001\", embedding, metadata)"
   ]
  },
  {
   "cell_type": "code",
   "execution_count": null,
   "metadata": {},
   "source": [
    "# Test searching for similar gaits\n",
    "# In a real scenario, you'd use a different embedding as a query\n",
    "results = db.search_similar_gaits(embedding, top_k=5)\n",
    "print(\"Search results:\")\n",
    "print(results)"
   ]
  }
 ],
 "metadata": {
  "kernelspec": {
   "display_name": "Python 3",
   "language": "python",
   "name": "python3"
  }
 },
 "nbformat": 4,
 "nbformat_minor": 2
}
