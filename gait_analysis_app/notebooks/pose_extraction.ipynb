{
 "cells": [
  {
   "cell_type": "markdown",
   "metadata": {},
   "source": [
    "# Gait Analysis: Pose Extraction\n",
    "\n",
    "This notebook demonstrates how to extract pose data from videos using MediaPipe."
   ]
  },
  {
   "cell_type": "code",
   "execution_count": null,
   "metadata": {},
   "source": [
    "import sys\n",
    "import os\n",
    "\n",
    "# Add the parent directory to the path to import from src\n",
    "sys.path.append(os.path.abspath('..'))\n",
    "\n",
    "import cv2\n",
    "import numpy as np\n",
    "import matplotlib.pyplot as plt\n",
    "from src.pose.extractor import PoseExtractor\n",
    "from src.utils.visualization import visualize_pose, animate_poses"
   ]
  },
  {
   "cell_type": "code",
   "execution_count": null,
   "metadata": {},
   "source": [
    "# Initialize the pose extractor\n",
    "extractor = PoseExtractor(model_complexity=2)"
   ]
  },
  {
   "cell_type": "code",
   "execution_count": null,
   "metadata": {},
   "source": [
    "# Path to your video file\n",
    "video_path = '../data/raw/sample_walking.mp4'  # Replace with your video file\n",
    "\n",
    "# Process the video\n",
    "poses, fps = extractor.process_video(video_path)\n",
    "print(f\"Extracted {len(poses)} frames of pose data at {fps} fps\")"
   ]
  },
  {
   "cell_type": "code",
   "execution_count": null,
   "metadata": {},
   "source": [
    "# Visualize a sample frame\n",
    "# This would require implementing a function to reconstruct MediaPipe landmarks\n",
    "# from our extracted data, which we'll add later\n",
    "\n",
    "# For now, just print the shape of our data\n",
    "print(f\"Pose data shape: {poses.shape}\")\n",
    "print(f\"Each frame has {poses.shape[1]} landmarks with {poses.shape[2]} values (x, y, z, visibility)\")"
   ]
  },
  {
   "cell_type": "code",
   "execution_count": null,
   "metadata": {},
   "source": [
    "# Save the extracted poses for later use\n",
    "np.save('../data/processed/sample_poses.npy', poses)"
   ]
  }
 ],
 "metadata": {
  "kernelspec": {
   "display_name": "Python 3",
   "language": "python",
   "name": "python3"
  }
 },
 "nbformat": 4,
 "nbformat_minor": 2
}
